{
 "cells": [
  {
   "cell_type": "markdown",
   "metadata": {},
   "source": [
    "# MNIST Neural-Network\n",
    "\n",
    "In this notebook we are going to apply machine learning (ML) to the MNIST hand-written digits dataset. Here we will be looking at different Neural Network architecture to perform digit recognition. To do this, you will need to install and import Keras and Tensorfow packages as seen below:"
   ]
  },
  {
   "cell_type": "code",
   "execution_count": 133,
   "metadata": {
    "collapsed": false
   },
   "outputs": [],
   "source": [
    "#Import the required packages\n",
    "import pandas as pd\n",
    "import numpy as np \n",
    "%matplotlib inline\n",
    "import matplotlib.pyplot as plt\n",
    "import tensorflow as tf\n",
    "import seaborn as sns\n",
    "\n",
    "import keras\n",
    "from keras import Sequential\n",
    "from keras.optimizers import Adam\n",
    "from sklearn.utils.multiclass import type_of_target\n",
    "\n",
    "from keras.layers import Embedding, LSTM, Dense, Dropout, Conv1D, MaxPooling1D, Flatten, Activation, Bidirectional, RepeatVector, Input"
   ]
  },
  {
   "cell_type": "markdown",
   "metadata": {},
   "source": [
    "## Load the dataset "
   ]
  },
  {
   "cell_type": "code",
   "execution_count": 134,
   "metadata": {
    "collapsed": false
   },
   "outputs": [
    {
     "data": {
      "text/html": [
       "<div>\n",
       "<table border=\"1\" class=\"dataframe\">\n",
       "  <thead>\n",
       "    <tr style=\"text-align: right;\">\n",
       "      <th></th>\n",
       "      <th>label</th>\n",
       "      <th>1x1</th>\n",
       "      <th>1x2</th>\n",
       "      <th>1x3</th>\n",
       "      <th>1x4</th>\n",
       "      <th>1x5</th>\n",
       "      <th>1x6</th>\n",
       "      <th>1x7</th>\n",
       "      <th>1x8</th>\n",
       "      <th>1x9</th>\n",
       "      <th>...</th>\n",
       "      <th>28x19</th>\n",
       "      <th>28x20</th>\n",
       "      <th>28x21</th>\n",
       "      <th>28x22</th>\n",
       "      <th>28x23</th>\n",
       "      <th>28x24</th>\n",
       "      <th>28x25</th>\n",
       "      <th>28x26</th>\n",
       "      <th>28x27</th>\n",
       "      <th>28x28</th>\n",
       "    </tr>\n",
       "  </thead>\n",
       "  <tbody>\n",
       "    <tr>\n",
       "      <th>0</th>\n",
       "      <td>5</td>\n",
       "      <td>0</td>\n",
       "      <td>0</td>\n",
       "      <td>0</td>\n",
       "      <td>0</td>\n",
       "      <td>0</td>\n",
       "      <td>0</td>\n",
       "      <td>0</td>\n",
       "      <td>0</td>\n",
       "      <td>0</td>\n",
       "      <td>...</td>\n",
       "      <td>0</td>\n",
       "      <td>0</td>\n",
       "      <td>0</td>\n",
       "      <td>0</td>\n",
       "      <td>0</td>\n",
       "      <td>0</td>\n",
       "      <td>0</td>\n",
       "      <td>0</td>\n",
       "      <td>0</td>\n",
       "      <td>0</td>\n",
       "    </tr>\n",
       "    <tr>\n",
       "      <th>1</th>\n",
       "      <td>0</td>\n",
       "      <td>0</td>\n",
       "      <td>0</td>\n",
       "      <td>0</td>\n",
       "      <td>0</td>\n",
       "      <td>0</td>\n",
       "      <td>0</td>\n",
       "      <td>0</td>\n",
       "      <td>0</td>\n",
       "      <td>0</td>\n",
       "      <td>...</td>\n",
       "      <td>0</td>\n",
       "      <td>0</td>\n",
       "      <td>0</td>\n",
       "      <td>0</td>\n",
       "      <td>0</td>\n",
       "      <td>0</td>\n",
       "      <td>0</td>\n",
       "      <td>0</td>\n",
       "      <td>0</td>\n",
       "      <td>0</td>\n",
       "    </tr>\n",
       "    <tr>\n",
       "      <th>2</th>\n",
       "      <td>4</td>\n",
       "      <td>0</td>\n",
       "      <td>0</td>\n",
       "      <td>0</td>\n",
       "      <td>0</td>\n",
       "      <td>0</td>\n",
       "      <td>0</td>\n",
       "      <td>0</td>\n",
       "      <td>0</td>\n",
       "      <td>0</td>\n",
       "      <td>...</td>\n",
       "      <td>0</td>\n",
       "      <td>0</td>\n",
       "      <td>0</td>\n",
       "      <td>0</td>\n",
       "      <td>0</td>\n",
       "      <td>0</td>\n",
       "      <td>0</td>\n",
       "      <td>0</td>\n",
       "      <td>0</td>\n",
       "      <td>0</td>\n",
       "    </tr>\n",
       "    <tr>\n",
       "      <th>3</th>\n",
       "      <td>1</td>\n",
       "      <td>0</td>\n",
       "      <td>0</td>\n",
       "      <td>0</td>\n",
       "      <td>0</td>\n",
       "      <td>0</td>\n",
       "      <td>0</td>\n",
       "      <td>0</td>\n",
       "      <td>0</td>\n",
       "      <td>0</td>\n",
       "      <td>...</td>\n",
       "      <td>0</td>\n",
       "      <td>0</td>\n",
       "      <td>0</td>\n",
       "      <td>0</td>\n",
       "      <td>0</td>\n",
       "      <td>0</td>\n",
       "      <td>0</td>\n",
       "      <td>0</td>\n",
       "      <td>0</td>\n",
       "      <td>0</td>\n",
       "    </tr>\n",
       "    <tr>\n",
       "      <th>4</th>\n",
       "      <td>9</td>\n",
       "      <td>0</td>\n",
       "      <td>0</td>\n",
       "      <td>0</td>\n",
       "      <td>0</td>\n",
       "      <td>0</td>\n",
       "      <td>0</td>\n",
       "      <td>0</td>\n",
       "      <td>0</td>\n",
       "      <td>0</td>\n",
       "      <td>...</td>\n",
       "      <td>0</td>\n",
       "      <td>0</td>\n",
       "      <td>0</td>\n",
       "      <td>0</td>\n",
       "      <td>0</td>\n",
       "      <td>0</td>\n",
       "      <td>0</td>\n",
       "      <td>0</td>\n",
       "      <td>0</td>\n",
       "      <td>0</td>\n",
       "    </tr>\n",
       "  </tbody>\n",
       "</table>\n",
       "<p>5 rows × 785 columns</p>\n",
       "</div>"
      ],
      "text/plain": [
       "   label  1x1  1x2  1x3  1x4  1x5  1x6  1x7  1x8  1x9  ...    28x19  28x20  \\\n",
       "0      5    0    0    0    0    0    0    0    0    0  ...        0      0   \n",
       "1      0    0    0    0    0    0    0    0    0    0  ...        0      0   \n",
       "2      4    0    0    0    0    0    0    0    0    0  ...        0      0   \n",
       "3      1    0    0    0    0    0    0    0    0    0  ...        0      0   \n",
       "4      9    0    0    0    0    0    0    0    0    0  ...        0      0   \n",
       "\n",
       "   28x21  28x22  28x23  28x24  28x25  28x26  28x27  28x28  \n",
       "0      0      0      0      0      0      0      0      0  \n",
       "1      0      0      0      0      0      0      0      0  \n",
       "2      0      0      0      0      0      0      0      0  \n",
       "3      0      0      0      0      0      0      0      0  \n",
       "4      0      0      0      0      0      0      0      0  \n",
       "\n",
       "[5 rows x 785 columns]"
      ]
     },
     "execution_count": 134,
     "metadata": {},
     "output_type": "execute_result"
    }
   ],
   "source": [
    "#import the MNIST dataset\n",
    "train = pd.read_csv(\"mnist_train.csv\")\n",
    "test = pd.read_csv(\"mnist_test.csv\")\n",
    "train.head()"
   ]
  },
  {
   "cell_type": "code",
   "execution_count": 135,
   "metadata": {
    "collapsed": false
   },
   "outputs": [
    {
     "data": {
      "text/plain": [
       "10"
      ]
     },
     "execution_count": 135,
     "metadata": {},
     "output_type": "execute_result"
    }
   ],
   "source": [
    "#Number of classes in the datset = 10\n",
    "set(train['label'])\n",
    "len(set(train['label']))"
   ]
  },
  {
   "cell_type": "code",
   "execution_count": 136,
   "metadata": {
    "collapsed": false
   },
   "outputs": [
    {
     "data": {
      "text/plain": [
       "{0, 1, 2, 3, 4, 5, 6, 7, 8, 9}"
      ]
     },
     "execution_count": 136,
     "metadata": {},
     "output_type": "execute_result"
    }
   ],
   "source": [
    "#the labels\n",
    "set(train['label'])"
   ]
  },
  {
   "cell_type": "code",
   "execution_count": 137,
   "metadata": {
    "collapsed": false
   },
   "outputs": [
    {
     "data": {
      "image/png": "[encoded data removed]",
      "text/plain": [
       "<matplotlib.figure.Figure at 0x4eb39a20>"
      ]
     },
     "metadata": {},
     "output_type": "display_data"
    }
   ],
   "source": [
    "#Show the first 9 images in the dataset\n",
    "for i in range(9):\n",
    "    plt.subplot(3,3,i+1)\n",
    "    first_image = train.iloc[i,1:785]\n",
    "    first_image = np.array(first_image, dtype='float')\n",
    "    pixels = first_image.reshape((28, 28))\n",
    "    plt.imshow(pixels, cmap='gray',interpolation='none')\n",
    "    plt.title(\"Class {}\".format(train.iloc[i,0]))"
   ]
  },
  {
   "cell_type": "markdown",
   "metadata": {},
   "source": [
    "When training neural networks (NN) it is important to make sure your training datset is evenly distributed and thus contained a balanced classes. Unbalanced class will result in a bias model as NN's tend to be lazy and will take majority rule. As we can see from the plot below the MNIST dataset contains balanced classes thus no additional data manipluation is needed. "
   ]
  },
  {
   "cell_type": "code",
   "execution_count": 138,
   "metadata": {
    "collapsed": false
   },
   "outputs": [
    {
     "data": {
      "text/plain": [
       "<matplotlib.axes._subplots.AxesSubplot at 0x4fcfdda0>"
      ]
     },
     "execution_count": 138,
     "metadata": {},
     "output_type": "execute_result"
    },
    {
     "data": {
      "image/png": "[encoded data removed]",
      "text/plain": [
       "<matplotlib.figure.Figure at 0x5ac2ce10>"
      ]
     },
     "metadata": {},
     "output_type": "display_data"
    }
   ],
   "source": [
    "#plot the distribution of the training data\n",
    "sns.countplot(train['label'])"
   ]
  },
  {
   "cell_type": "markdown",
   "metadata": {},
   "source": [
    "## Format the data\n",
    "\n",
    "The dataset has already been broken into a training and test set (85/25). When using neural networks it is a good practice to linearly scale  the datat reducing the range of inputa variables from 0-255 to 0-1. Normalization is needed because it removes geometrical biases towards some of the dimensions of the data vectors. This is intended for faster approaching to global minima at error surface."
   ]
  },
  {
   "cell_type": "code",
   "execution_count": 157,
   "metadata": {
    "collapsed": false
   },
   "outputs": [
    {
     "name": "stdout",
     "output_type": "stream",
     "text": [
      "Training matrix shape (60000, 784)\n",
      "Testing matrix shape (10000, 784)\n"
     ]
    }
   ],
   "source": [
    "#define the test  and training data\n",
    "x_train = train.iloc[0:len(train),1:785]\n",
    "x_test = test.iloc[0:len(test),1:785]\n",
    "y_train =train.iloc[0:len(train),0]\n",
    "y_test = test.iloc[0:len(test),0]\n",
    "\n",
    "print(\"Training matrix shape\", x_train.shape)\n",
    "print(\"Testing matrix shape\", x_test.shape)"
   ]
  },
  {
   "cell_type": "code",
   "execution_count": 158,
   "metadata": {
    "collapsed": true
   },
   "outputs": [],
   "source": [
    "#scale input data\n",
    "x_train = x_train.astype('float32')\n",
    "x_test = x_test.astype('float32')\n",
    "\n",
    "x_train = x_train/255\n",
    "x_test = x_test/255"
   ]
  },
  {
   "cell_type": "code",
   "execution_count": 159,
   "metadata": {
    "collapsed": false
   },
   "outputs": [
    {
     "name": "stdout",
     "output_type": "stream",
     "text": [
      "Training target matrix shape (60000, 10)\n",
      "Testing target matrix shape (10000, 10)\n"
     ]
    }
   ],
   "source": [
    "y_train = y_train.astype('int32')\n",
    "y_test = y_test.astype('int32')\n",
    "\n",
    "Y_train = keras.utils.to_categorical(y_train, num_classes=10)\n",
    "Y_test = keras.utils.to_categorical(y_test, num_classes=10)\n",
    "\n",
    "print(\"Training target matrix shape\", Y_train.shape)\n",
    "print(\"Testing target matrix shape\", Y_test.shape)"
   ]
  },
  {
   "cell_type": "markdown",
   "metadata": {},
   "source": [
    "## Build the Neural Network\n",
    "\n",
    "For the first iteration, lets build a basic Feed Forward Neural Network which has an input layer, one hiddne layer and an output layer. This this case we create a network with one hidden layers with 15 neurons as seen in the image below, and an output layer with 10 neurons.  \n",
    "\n",
    "This is a categorical (10 class) problem and this use need an output layer of 10 neurons with a 'softmax' activation function. For binary (2-class) problems, one node can be used in the output layer with a sigmoid function. \n",
    "\n",
    "Activation functions are an extremely important feature of the artificial neural networks. They basically decide whether a neuron should be activated or not. Whether the information that the neuron is receiving is relevant for the given information or should it be ignored. The non-linear activation fucntion used in the hidden and input layer is the 'ReLu' activation. More information about various activations can be found in the linkn below:\n",
    "\n",
    "https://en.wikipedia.org/wiki/Activation_function"
   ]
  },
  {
   "cell_type": "markdown",
   "metadata": {},
   "source": [
    "![title](pic1.png)"
   ]
  },
  {
   "cell_type": "code",
   "execution_count": 172,
   "metadata": {
    "collapsed": false
   },
   "outputs": [
    {
     "name": "stdout",
     "output_type": "stream",
     "text": [
      "_________________________________________________________________\n",
      "Layer (type)                 Output Shape              Param #   \n",
      "=================================================================\n",
      "dense_38 (Dense)             (None, 15)                11775     \n",
      "_________________________________________________________________\n",
      "dropout_27 (Dropout)         (None, 15)                0         \n",
      "_________________________________________________________________\n",
      "dense_39 (Dense)             (None, 15)                240       \n",
      "_________________________________________________________________\n",
      "dropout_28 (Dropout)         (None, 15)                0         \n",
      "_________________________________________________________________\n",
      "dense_40 (Dense)             (None, 10)                160       \n",
      "=================================================================\n",
      "Total params: 12,175\n",
      "Trainable params: 12,175\n",
      "Non-trainable params: 0\n",
      "_________________________________________________________________\n",
      "None\n"
     ]
    }
   ],
   "source": [
    "model = Sequential()\n",
    "model.add(Dense(15, input_shape=(784,),activation='relu'))    \n",
    "model.add(Dropout(0.2))\n",
    "model.add(Dense(15,  activation='relu'))\n",
    "model.add(Dropout(0.2))\n",
    "model.add(Dense(10, activation='softmax'))\n",
    "print(model.summary())"
   ]
  },
  {
   "cell_type": "code",
   "execution_count": 177,
   "metadata": {
    "collapsed": false
   },
   "outputs": [],
   "source": [
    "batch_size = 128\n",
    "num_epochs = 5\n",
    "\n",
    "model.compile(loss='categorical_crossentropy', \n",
    "              #optimizer= Adam(lr=1e-03), \n",
    "              optimizer='adam',\n",
    "              metrics=['accuracy'])"
   ]
  },
  {
   "cell_type": "code",
   "execution_count": 178,
   "metadata": {
    "collapsed": false
   },
   "outputs": [
    {
     "name": "stdout",
     "output_type": "stream",
     "text": [
      "Train on 48000 samples, validate on 12000 samples\n",
      "Epoch 1/5\n",
      "48000/48000 [==============================] - 2s 40us/step - loss: 0.5712 - acc: 0.8214 - val_loss: 0.3118 - val_acc: 0.9151\n",
      "Epoch 2/5\n",
      "48000/48000 [==============================] - 1s 27us/step - loss: 0.5432 - acc: 0.8302 - val_loss: 0.2969 - val_acc: 0.9172\n",
      "Epoch 3/5\n",
      "48000/48000 [==============================] - 1s 28us/step - loss: 0.5344 - acc: 0.8339 - val_loss: 0.2961 - val_acc: 0.9194\n",
      "Epoch 4/5\n",
      "48000/48000 [==============================] - 1s 28us/step - loss: 0.5190 - acc: 0.8389 - val_loss: 0.2879 - val_acc: 0.9202\n",
      "Epoch 5/5\n",
      "48000/48000 [==============================] - 1s 28us/step - loss: 0.5052 - acc: 0.8425 - val_loss: 0.2842 - val_acc: 0.9219\n",
      "Validation accuracy: 0.9219166668256124, val_loss: 0.28423027777671817\n"
     ]
    }
   ],
   "source": [
    "history = model.fit(x_train, Y_train,\n",
    "          validation_split=0.2,\n",
    "          #validation_data=(x_test,Y_test),\n",
    "          #verbose=1,\n",
    "          batch_size=batch_size, epochs=num_epochs)\n",
    "\n",
    "history = history.history\n",
    "val_acc = history['val_acc'][-1]\n",
    "val_loss = history['val_loss'][-1]\n",
    "print ('Validation accuracy: {acc}, val_loss: {loss}'.format(\n",
    "            acc=val_acc, loss=val_loss))"
   ]
  },
  {
   "cell_type": "code",
   "execution_count": 179,
   "metadata": {
    "collapsed": false
   },
   "outputs": [
    {
     "name": "stdout",
     "output_type": "stream",
     "text": [
      "Train loss: 0.27, Train accuracy: 92.57%\n"
     ]
    }
   ],
   "source": [
    "final_loss, final_acc = model.evaluate(x_train,Y_train, verbose=0)\n",
    "print(\"Train loss: {0:.2f}, Train accuracy: {1:.2f}%\".format(final_loss, final_acc*100))"
   ]
  },
  {
   "cell_type": "code",
   "execution_count": 180,
   "metadata": {
    "collapsed": false
   },
   "outputs": [
    {
     "name": "stdout",
     "output_type": "stream",
     "text": [
      "Test loss: 0.29, Test accuracy: 92.26%\n"
     ]
    }
   ],
   "source": [
    "final_loss, final_acc = model.evaluate(x_test,Y_test,verbose=0)\n",
    "\n",
    "print(\"Test loss: {0:.2f}, Test accuracy: {1:.2f}%\".format(final_loss, final_acc*100))"
   ]
  },
  {
   "cell_type": "code",
   "execution_count": 181,
   "metadata": {
    "collapsed": false
   },
   "outputs": [
    {
     "name": "stdout",
     "output_type": "stream",
     "text": [
      "     0     1    2    3    4    5    6    7    8    9\n",
      "0  960     0    0    1    0    5   10    3    1    0\n",
      "1    0  1114    3    4    1    3    3    0    7    0\n",
      "2   11     3  952   15    7    4   13    7   14    6\n",
      "3    2     1   18  917    0   35    0   15   16    6\n",
      "4    2     1    3    0  910    1   14    0    4   47\n",
      "5    8     2    0   38   13  774   13    7   35    2\n",
      "6   14     3    2    1    7   13  912    0    6    0\n",
      "7    0     7   18    8    2    1    1  947    1   43\n",
      "8    8    11    5   23   11   34   13   10  844   15\n",
      "9    7     4    0   11   41   12    3   27    8  896\n"
     ]
    }
   ],
   "source": [
    "from sklearn.metrics import confusion_matrix\n",
    "predictions = model.predict_classes(x_test)\n",
    "\n",
    "#fetch predictions\n",
    "preds=predictions.tolist()\n",
    "y_lbls = np.array(y_test.values)\n",
    "\n",
    "cm_1 = confusion_matrix(y_lbls, preds)\n",
    "print(pd.DataFrame(cm_1))"
   ]
  },
  {
   "cell_type": "code",
   "execution_count": 182,
   "metadata": {
    "collapsed": false
   },
   "outputs": [
    {
     "name": "stdout",
     "output_type": "stream",
     "text": [
      "Total number of correct classifcations:  9226\n"
     ]
    }
   ],
   "source": [
    "#Total number of number recignized in the test set\n",
    "b = np.asarray(cm_1)\n",
    "print('Total number of correct classifcations: ', np.trace(b))"
   ]
  },
  {
   "cell_type": "markdown",
   "metadata": {},
   "source": [
    "## Improve model architecture\n",
    "\n",
    "we can play around with the network architecture and try a variety of set ups to improve the models performance. \n",
    "- Increase training time (epochs)\n",
    "- Change batch size\n",
    "- Add more hidden layers\n",
    "- Use alternative activation functions\n",
    "- Use alternative optimizer algorithms\n",
    "- Add learning rates\n",
    "\n",
    "See model below:"
   ]
  },
  {
   "cell_type": "code",
   "execution_count": 183,
   "metadata": {
    "collapsed": false
   },
   "outputs": [
    {
     "name": "stdout",
     "output_type": "stream",
     "text": [
      "_________________________________________________________________\n",
      "Layer (type)                 Output Shape              Param #   \n",
      "=================================================================\n",
      "dense_41 (Dense)             (None, 512)               401920    \n",
      "_________________________________________________________________\n",
      "dropout_29 (Dropout)         (None, 512)               0         \n",
      "_________________________________________________________________\n",
      "dense_42 (Dense)             (None, 200)               102600    \n",
      "_________________________________________________________________\n",
      "dropout_30 (Dropout)         (None, 200)               0         \n",
      "_________________________________________________________________\n",
      "dense_43 (Dense)             (None, 100)               20100     \n",
      "_________________________________________________________________\n",
      "dropout_31 (Dropout)         (None, 100)               0         \n",
      "_________________________________________________________________\n",
      "dense_44 (Dense)             (None, 10)                1010      \n",
      "=================================================================\n",
      "Total params: 525,630\n",
      "Trainable params: 525,630\n",
      "Non-trainable params: 0\n",
      "_________________________________________________________________\n",
      "None\n"
     ]
    }
   ],
   "source": [
    "model = Sequential()\n",
    "model.add(Dense(512, input_shape=(784,),activation='relu'))    \n",
    "model.add(Dropout(0.2))\n",
    "model.add(Dense(200,  activation='relu'))\n",
    "model.add(Dropout(0.2))\n",
    "model.add(Dense(100,  activation='relu'))\n",
    "model.add(Dropout(0.2))\n",
    "model.add(Dense(10, activation='softmax'))\n",
    "print(model.summary())"
   ]
  },
  {
   "cell_type": "code",
   "execution_count": 184,
   "metadata": {
    "collapsed": false
   },
   "outputs": [
    {
     "name": "stdout",
     "output_type": "stream",
     "text": [
      "Train on 48000 samples, validate on 12000 samples\n",
      "Epoch 1/10\n",
      "48000/48000 [==============================] - 6s 120us/step - loss: 0.3498 - acc: 0.8931 - val_loss: 0.1371 - val_acc: 0.9573\n",
      "Epoch 2/10\n",
      "48000/48000 [==============================] - 5s 100us/step - loss: 0.1367 - acc: 0.9601 - val_loss: 0.0965 - val_acc: 0.9717\n",
      "Epoch 3/10\n",
      "48000/48000 [==============================] - 5s 99us/step - loss: 0.0979 - acc: 0.9705 - val_loss: 0.0861 - val_acc: 0.9743\n",
      "Epoch 4/10\n",
      "48000/48000 [==============================] - 5s 99us/step - loss: 0.0792 - acc: 0.9761 - val_loss: 0.0838 - val_acc: 0.9765\n",
      "Epoch 5/10\n",
      "48000/48000 [==============================] - 5s 99us/step - loss: 0.0633 - acc: 0.9810 - val_loss: 0.0766 - val_acc: 0.9797\n",
      "Epoch 6/10\n",
      "48000/48000 [==============================] - 5s 100us/step - loss: 0.0525 - acc: 0.9837 - val_loss: 0.0894 - val_acc: 0.9760\n",
      "Epoch 7/10\n",
      "48000/48000 [==============================] - 5s 102us/step - loss: 0.0480 - acc: 0.9850 - val_loss: 0.0991 - val_acc: 0.9728\n",
      "Epoch 8/10\n",
      "48000/48000 [==============================] - 5s 101us/step - loss: 0.0432 - acc: 0.9865 - val_loss: 0.0856 - val_acc: 0.9779\n",
      "Epoch 9/10\n",
      "48000/48000 [==============================] - 5s 100us/step - loss: 0.0405 - acc: 0.9874 - val_loss: 0.0771 - val_acc: 0.9798\n",
      "Epoch 10/10\n",
      "48000/48000 [==============================] - 5s 100us/step - loss: 0.0347 - acc: 0.9892 - val_loss: 0.0823 - val_acc: 0.9793\n",
      "Validation accuracy: 0.979333333492279, val_loss: 0.08232430503641566\n"
     ]
    }
   ],
   "source": [
    "batch_size = 128\n",
    "num_epochs = 10\n",
    "\n",
    "model.compile(loss='categorical_crossentropy', \n",
    "              #optimizer= Adam(lr=1e-03), \n",
    "              optimizer='adam',\n",
    "              metrics=['accuracy'])\n",
    "\n",
    "history = model.fit(x_train, Y_train,\n",
    "          validation_split=0.2,\n",
    "          #validation_data=(x_test,Y_test),\n",
    "          #verbose=1,\n",
    "          batch_size=batch_size, epochs=num_epochs)\n",
    "\n",
    "history = history.history\n",
    "val_acc = history['val_acc'][-1]\n",
    "val_loss = history['val_loss'][-1]\n",
    "print ('Validation accuracy: {acc}, val_loss: {loss}'.format(\n",
    "            acc=val_acc, loss=val_loss))"
   ]
  },
  {
   "cell_type": "code",
   "execution_count": 185,
   "metadata": {
    "collapsed": false
   },
   "outputs": [
    {
     "name": "stdout",
     "output_type": "stream",
     "text": [
      "Train loss: 0.03, Train accuracy: 99.22%\n",
      "Test loss: 0.08, Test accuracy: 98.00%\n"
     ]
    }
   ],
   "source": [
    "final_loss1, final_acc1 = model.evaluate(x_train,Y_train, verbose=0)\n",
    "print(\"Train loss: {0:.2f}, Train accuracy: {1:.2f}%\".format(final_loss1, final_acc1*100))\n",
    "\n",
    "final_loss2, final_acc2 = model.evaluate(x_test,Y_test,verbose=0)\n",
    "\n",
    "print(\"Test loss: {0:.2f}, Test accuracy: {1:.2f}%\".format(final_loss2, final_acc2*100))"
   ]
  },
  {
   "cell_type": "code",
   "execution_count": null,
   "metadata": {
    "collapsed": true
   },
   "outputs": [],
   "source": []
  }
 ],
 "metadata": {
  "kernelspec": {
   "display_name": "Python [Root]",
   "language": "python",
   "name": "Python [Root]"
  },
  "language_info": {
   "codemirror_mode": {
    "name": "ipython",
    "version": 3
   },
   "file_extension": ".py",
   "mimetype": "text/x-python",
   "name": "python",
   "nbconvert_exporter": "python",
   "pygments_lexer": "ipython3",
   "version": "3.5.2"
  }
 },
 "nbformat": 4,
 "nbformat_minor": 0
}
